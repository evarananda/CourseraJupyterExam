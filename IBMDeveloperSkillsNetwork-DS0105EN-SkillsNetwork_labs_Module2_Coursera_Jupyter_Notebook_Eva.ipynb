{
  "metadata": {
    "kernelspec": {
      "name": "python",
      "display_name": "Pyolite",
      "language": "python"
    },
    "language_info": {
      "codemirror_mode": {
        "name": "ipython",
        "version": 3
      },
      "file_extension": ".py",
      "mimetype": "text/x-python",
      "name": "python",
      "nbconvert_exporter": "python",
      "pygments_lexer": "ipython3",
      "version": "3.7.6"
    }
  },
  "nbformat_minor": 4,
  "nbformat": 4,
  "cells": [
    {
      "cell_type": "markdown",
      "source": "<center>\n    <img src=\"https://cf-courses-data.s3.us.cloud-object-storage.appdomain.cloud/IBMDeveloperSkillsNetwork-DS0105EN-SkillsNetwork/labs/Module2/images/SN_web_lightmode.png\" width=\"300\" alt=\"cognitiveclass.ai logo\"  />\n</center>\n",
      "metadata": {}
    },
    {
      "cell_type": "markdown",
      "source": "#### Add your code below following the instructions given in the course\n",
      "metadata": {}
    },
    {
      "cell_type": "markdown",
      "source": "# My Jupyter Notebook on IBM Watson Studio",
      "metadata": {}
    },
    {
      "cell_type": "markdown",
      "source": "**Eva Rosalina Ananda**\nMy desired job right now is to be talented data scientist.",
      "metadata": {}
    },
    {
      "cell_type": "markdown",
      "source": "*My favorite quotes all the time is without data, you're just a person with opinion, hence, being a data scientist will make me be more facts driven person. Also, talented data scientists make good amount of money so I really want to be one of them*",
      "metadata": {}
    },
    {
      "cell_type": "markdown",
      "source": "### This code is about creating a simple dataframe",
      "metadata": {}
    },
    {
      "cell_type": "code",
      "source": "import pandas as pd\nstudent_data = {'Name': ['Angelina', 'Brad', 'Tom', 'Jack'], 'Age': [18, 17, 15, 20]}\ndf = pd.DataFrame(student_data)\nprint(df)",
      "metadata": {
        "trusted": true
      },
      "execution_count": 5,
      "outputs": [
        {
          "name": "stdout",
          "text": "       Name  Age\n0  Angelina   18\n1      Brad   17\n2       Tom   15\n3      Jack   20\n",
          "output_type": "stream"
        }
      ]
    },
    {
      "cell_type": "markdown",
      "source": "~~ This is how we say numbers in Indonesia ~~\n* Satu\n* Dua\n* Tiga\n\n\n(https://www.google.com \"Google's Homepage\")",
      "metadata": {}
    },
    {
      "cell_type": "code",
      "source": "",
      "metadata": {},
      "execution_count": null,
      "outputs": []
    }
  ]
}